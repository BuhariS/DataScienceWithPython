{
 "cells": [
  {
   "cell_type": "markdown",
   "id": "69b35831",
   "metadata": {},
   "source": [
    "<a \n",
    " href=\"https://colab.research.google.com/github/LearnPythonWithRune/DataScienceWithPython/blob/main/colab/starter/02 - Project - pandas DataFrame tricks.ipynb\"\n",
    " target=\"_parent\">\n",
    "<img \n",
    " src=\"https://colab.research.google.com/assets/colab-badge.svg\"\n",
    "alt=\"Open In Colab\"/>\n",
    "</a>"
   ]
  },
  {
   "cell_type": "markdown",
   "id": "ca6207db",
   "metadata": {},
   "source": [
    "# Project - Play with DataFrames"
   ]
  },
  {
   "cell_type": "markdown",
   "id": "18e27ccf",
   "metadata": {},
   "source": [
    "## Goal of Project\n",
    "- Master pandas DataFrame"
   ]
  },
  {
   "cell_type": "markdown",
   "id": "f5ae5cf5",
   "metadata": {},
   "source": [
    "### Step 1: Import pandas\n",
    "- Execute the cell below (SHIFT + ENTER)"
   ]
  },
  {
   "cell_type": "code",
   "execution_count": null,
   "id": "484b5606",
   "metadata": {},
   "outputs": [],
   "source": [
    "import pandas as pd"
   ]
  },
  {
   "cell_type": "markdown",
   "id": "4f3c3ae2",
   "metadata": {},
   "source": [
    "### Step 2: Read the data\n",
    "- Use ```pd.read_csv()``` to read the file `files/population.csv`\n",
    "- NOTE: Remember to assign the result to a variable (e.g., ```data```)"
   ]
  },
  {
   "cell_type": "code",
   "execution_count": null,
   "id": "3c308d99",
   "metadata": {},
   "outputs": [],
   "source": [
    "data = pd.read_csv('https://raw.githubusercontent.com/LearnPythonWithRune/DataScienceWithPython/main/jupyter/final/files/population.csv')\n",
    "data.head()"
   ]
  },
  {
   "cell_type": "markdown",
   "id": "270c2aa3",
   "metadata": {},
   "source": [
    "### Step 3: Investigate the data types\n",
    "- Use ```.dtypes``` "
   ]
  },
  {
   "cell_type": "code",
   "execution_count": null,
   "id": "484b89ec",
   "metadata": {},
   "outputs": [],
   "source": []
  },
  {
   "cell_type": "markdown",
   "id": "937105b5",
   "metadata": {},
   "source": [
    "### Step 4: Convert Year to Datetime\n",
    "- ```pd.to_datetime(...)```: Convert to a datetime\n",
    "- ```format='%Y'```: Format of input, here it is the year."
   ]
  },
  {
   "cell_type": "code",
   "execution_count": null,
   "id": "7163a4a1",
   "metadata": {},
   "outputs": [],
   "source": []
  },
  {
   "cell_type": "markdown",
   "id": "683f5886",
   "metadata": {},
   "source": [
    "### Step 5: Scale Population to millions\n",
    "- HINT: ```data['Population']*1000``` scales by 1000"
   ]
  },
  {
   "cell_type": "code",
   "execution_count": null,
   "id": "563f4fb1",
   "metadata": {},
   "outputs": [],
   "source": []
  },
  {
   "cell_type": "code",
   "execution_count": null,
   "id": "4e8b94d1",
   "metadata": {},
   "outputs": [],
   "source": []
  },
  {
   "cell_type": "markdown",
   "id": "c359265d",
   "metadata": {},
   "source": [
    "### Step 6: Calculate mean population for each country\n",
    "- HINT: ```data.groupby('Country')``` groups the data"
   ]
  },
  {
   "cell_type": "code",
   "execution_count": null,
   "id": "a6e8eb4f",
   "metadata": {},
   "outputs": [],
   "source": []
  },
  {
   "cell_type": "markdown",
   "id": "f1a39ae5",
   "metadata": {},
   "source": [
    "### Step 7: Replace Denmark to DNK\n",
    "- Given a column you can access the string functions on it with ```.str```\n",
    "    - This enables you to apply string functions on it\n",
    "    - HINT: ```data['Country'].str.replace('Denmark', 'DNK')```"
   ]
  },
  {
   "cell_type": "code",
   "execution_count": null,
   "id": "7af21720",
   "metadata": {},
   "outputs": [],
   "source": []
  },
  {
   "cell_type": "code",
   "execution_count": null,
   "id": "d7b22bc2",
   "metadata": {},
   "outputs": [],
   "source": []
  },
  {
   "cell_type": "code",
   "execution_count": null,
   "id": "c5193dfb",
   "metadata": {},
   "outputs": [],
   "source": []
  }
 ],
 "metadata": {
  "language_info": {
   "name": "python"
  }
 },
 "nbformat": 4,
 "nbformat_minor": 5
}
