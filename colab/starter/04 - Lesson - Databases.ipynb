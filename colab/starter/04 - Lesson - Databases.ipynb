{
 "cells": [
  {
   "cell_type": "markdown",
   "id": "fe9ff5cf",
   "metadata": {},
   "source": [
    "<a \n",
    " href=\"https://colab.research.google.com/github/LearnPythonWithRune/DataScienceWithPython/blob/main/colab/starter/04 - Lesson - Databases.ipynb\"\n",
    " target=\"_parent\">\n",
    "<img \n",
    " src=\"https://colab.research.google.com/assets/colab-badge.svg\"\n",
    "alt=\"Open In Colab\"/>\n",
    "</a>"
   ]
  },
  {
   "cell_type": "markdown",
   "id": "b6debaac",
   "metadata": {},
   "source": [
    "# Databases"
   ]
  },
  {
   "cell_type": "markdown",
   "id": "a560dd75",
   "metadata": {},
   "source": [
    "![Data Science Workflow](img/ds-workflow.png)"
   ]
  },
  {
   "cell_type": "markdown",
   "id": "c25bb04b",
   "metadata": {},
   "source": [
    "## Acquire Data\n",
    "### Common Data Sources\n",
    "- The Internet - Web Scraping\n",
    "- **Databases**\n",
    "- CSV\n",
    "- Excel\n",
    "- Parquet"
   ]
  },
  {
   "cell_type": "markdown",
   "id": "bfa4218b",
   "metadata": {},
   "source": [
    "### Database\n",
    "- **Relational databases** models data in rows and columns in a series of tables.\n",
    "- Like a collection of **DataFrames/Excel sheets**.\n",
    "- **SQL** (often pronounced *sequel*): Structured Query Language\n",
    "- Non-relational databases [NoSQL](https://en.wikipedia.org/wiki/NoSQL)"
   ]
  },
  {
   "cell_type": "markdown",
   "id": "d9874702",
   "metadata": {},
   "source": [
    "### SQLite database\n",
    "- [SQLite database](https://www.sqlite.org/index.html) software library that provides a relational database management system\n",
    "- Lightweight to setup, administrate, and requires low resources."
   ]
  },
  {
   "cell_type": "markdown",
   "id": "6d7f352f",
   "metadata": {},
   "source": [
    "### Dataset (in a SQLite database)\n",
    "- Dallas Police Officer-Involved Shootings\n",
    "- Has three tables: **incidents, officers, subjects**\n",
    "\n",
    "#### Other SQLite datasets\n",
    "- [SQLite Data Starter Packs](http://2016.padjo.org/tutorials/sqlite-data-starterpacks/)\n",
    "- [Iris Species (Kaggle)](https://www.kaggle.com/uciml/iris)\n",
    "- [European Soccer Database (Kaggle)](https://www.kaggle.com/hugomathien/soccer)"
   ]
  },
  {
   "cell_type": "markdown",
   "id": "2a4264e0",
   "metadata": {},
   "source": [
    "### Database connector\n",
    "- The [sqlite3](https://docs.python.org/3/library/sqlite3.html) is an interface for SQLite databases.\n",
    "- No installation needed.\n",
    "\n",
    "#### Other database connectors for Python\n",
    "* [MySQL Connector](https://dev.mysql.com/doc/connector-python/en/) for MySQL\n",
    "* [Psycopg](http://initd.org/psycopg/docs/install.html) for PostgreSQL\n",
    "* [pymssql](http://pymssql.org/en/stable/) for Microsoft MS SQL"
   ]
  },
  {
   "cell_type": "markdown",
   "id": "f6779643",
   "metadata": {},
   "source": [
    "To import and connect to a SQLite database.\n",
    "```Python\n",
    "import sqlite3\n",
    "conn = sqlite3.connect('files/dallas-ois.sqlite')\n",
    "```"
   ]
  },
  {
   "cell_type": "code",
   "execution_count": null,
   "id": "a9fe4e3b",
   "metadata": {},
   "outputs": [],
   "source": []
  },
  {
   "cell_type": "code",
   "execution_count": null,
   "id": "ca146349",
   "metadata": {},
   "outputs": [],
   "source": []
  },
  {
   "cell_type": "markdown",
   "id": "329dbd67",
   "metadata": {},
   "source": [
    "The interface to the datases is through the `cursor`.\n",
    "\n",
    "```Python\n",
    "cursor = conn.cursor()\n",
    "```\n",
    "\n",
    "The `execute` method allows to run `SQL` queries on our database.\n",
    "\n",
    "To get a list of all the tables the following query can be applied.\n",
    "\n",
    "```SQL\n",
    "SELECT name FROM sqlite_master WHERE type='table' ORDER BY name\n",
    "```\n",
    "\n",
    "The result is fetched with the `fetchall()` method."
   ]
  },
  {
   "cell_type": "code",
   "execution_count": null,
   "id": "ddb8a30b",
   "metadata": {},
   "outputs": [],
   "source": []
  },
  {
   "cell_type": "code",
   "execution_count": null,
   "id": "7ec8150f",
   "metadata": {},
   "outputs": [],
   "source": []
  },
  {
   "cell_type": "code",
   "execution_count": null,
   "id": "0b6ec21c",
   "metadata": {},
   "outputs": [],
   "source": []
  },
  {
   "cell_type": "markdown",
   "id": "b424595d",
   "metadata": {},
   "source": [
    "To get a description of a table (SQLite specific)\n",
    "\n",
    "```SQL\n",
    "PRAGMA table_info(officers)\n",
    "```"
   ]
  },
  {
   "cell_type": "code",
   "execution_count": null,
   "id": "043c14e4",
   "metadata": {},
   "outputs": [],
   "source": []
  },
  {
   "cell_type": "code",
   "execution_count": null,
   "id": "62e3e065",
   "metadata": {},
   "outputs": [],
   "source": []
  },
  {
   "cell_type": "markdown",
   "id": "b9cc3c8c",
   "metadata": {},
   "source": [
    "### SQL syntax\n",
    "Get all data from table\n",
    "```SQL\n",
    "SELECT * FROM table_name\n",
    "```\n",
    "\n",
    "Limit the response\n",
    "```SQL\n",
    "SELECT * FROM table_name LIMIT 100\n",
    "```\n",
    "\n",
    "Filter data\n",
    "```SQL\n",
    "SELECT * FROM table_name WHERE column_name > 1\n",
    "```"
   ]
  },
  {
   "cell_type": "markdown",
   "id": "9a25d394",
   "metadata": {},
   "source": [
    "### Import data into DataFrame\n",
    "Example of how to read data into a DataFrame from a SQL statement\n",
    "```Python\n",
    "import pandas as pd\n",
    "\n",
    "officers = pd.read_sql('SELECT * FROM officers', conn)\n",
    "```"
   ]
  },
  {
   "cell_type": "code",
   "execution_count": null,
   "id": "35882cbd",
   "metadata": {},
   "outputs": [],
   "source": []
  },
  {
   "cell_type": "code",
   "execution_count": null,
   "id": "3ae1f66f",
   "metadata": {},
   "outputs": [],
   "source": []
  },
  {
   "cell_type": "code",
   "execution_count": null,
   "id": "9241380e",
   "metadata": {},
   "outputs": [],
   "source": []
  },
  {
   "cell_type": "markdown",
   "id": "1119602f",
   "metadata": {},
   "source": [
    "### SQL join syntax\n",
    "`(INNER) JOIN`: returns records that have matching values in both tables\n",
    "```SQL\n",
    "SELECT * FROM table_1 JOIN table_2 ON table_1.column_name_1=table_2.column_name_2\n",
    "```\n",
    "\n",
    "`LEFT JOIN`: returns all records from the left table, and the matched records from the right table\n",
    "```SQL\n",
    "SELECT * FROM table_1 LEFT JOIN table_2 ON table_1.column_name_1=table_2.column_name_2\n",
    "```"
   ]
  },
  {
   "cell_type": "code",
   "execution_count": null,
   "id": "7dc892e9",
   "metadata": {},
   "outputs": [],
   "source": []
  },
  {
   "cell_type": "code",
   "execution_count": null,
   "id": "cd4270e2",
   "metadata": {},
   "outputs": [],
   "source": []
  },
  {
   "cell_type": "code",
   "execution_count": null,
   "id": "bad9a9f3",
   "metadata": {},
   "outputs": [],
   "source": []
  },
  {
   "cell_type": "code",
   "execution_count": null,
   "id": "4402c833",
   "metadata": {},
   "outputs": [],
   "source": []
  },
  {
   "cell_type": "code",
   "execution_count": null,
   "id": "834f3594",
   "metadata": {},
   "outputs": [],
   "source": []
  },
  {
   "cell_type": "code",
   "execution_count": null,
   "id": "e83496df",
   "metadata": {},
   "outputs": [],
   "source": []
  },
  {
   "cell_type": "code",
   "execution_count": null,
   "id": "87d86b87",
   "metadata": {},
   "outputs": [],
   "source": []
  }
 ],
 "metadata": {},
 "nbformat": 4,
 "nbformat_minor": 5
}
