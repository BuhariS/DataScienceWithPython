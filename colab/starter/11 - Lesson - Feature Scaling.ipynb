{
 "cells": [
  {
   "cell_type": "markdown",
   "id": "544cb5f8",
   "metadata": {},
   "source": [
    "<a \n",
    " href=\"https://colab.research.google.com/github/LearnPythonWithRune/DataScienceWithPython/blob/main/colab/starter/11 - Lesson - Feature Scaling.ipynb\"\n",
    " target=\"_parent\">\n",
    "<img \n",
    " src=\"https://colab.research.google.com/assets/colab-badge.svg\"\n",
    "alt=\"Open In Colab\"/>\n",
    "</a>"
   ]
  },
  {
   "cell_type": "markdown",
   "id": "af1e676e",
   "metadata": {},
   "source": [
    "# Feature Scaling"
   ]
  },
  {
   "cell_type": "markdown",
   "id": "3b5f447f",
   "metadata": {},
   "source": [
    "![Data Science Workflow](img/ds-workflow.png)"
   ]
  },
  {
   "cell_type": "markdown",
   "id": "a1d976f5",
   "metadata": {},
   "source": [
    "## What is Feature Scaling?\n",
    "- **Feature Scaling** transforms values in the similar range for machine learning algorithms to behave optimal.\n",
    "- **Feature Scaling** can be a problems for **Machine Learing** algorithms on multiple features spanning in different magnitudes.\n",
    "- **Feature Scaling** can also make it is easier to compare results\n",
    "\n",
    "### Feature Scaling Techniques\n",
    "- **Normalization** is a special case of **MinMaxScaler**\n",
    "    - **Normalization**: Converts values between 0-1\n",
    "```Python\n",
    "(values - values.min())/(values.max() - values.min())\n",
    "```\n",
    "    - **MinMaxScaler**: Between any values\n",
    "- **Standardization** (**StandardSclaer** from sklearn)\n",
    "    - Mean: 0, StdDev: 1\n",
    "```Python\n",
    "(values - values.mean())/values.std()\n",
    "```\n",
    "    - Less sensitive to outliers"
   ]
  },
  {
   "cell_type": "markdown",
   "id": "806e2f24",
   "metadata": {},
   "source": [
    "### Machine Learning algorithms\n",
    "- Some algorithms are more sensitive than others\n",
    "- **Distance-based** algorithms are most effected by the range of features.\n",
    "    - Examples include: [KNN](https://en.wikipedia.org/wiki/K-nearest_neighbors_algorithm), [K-means](https://en.wikipedia.org/wiki/K-means_clustering), [SVM](https://en.wikipedia.org/wiki/Support-vector_machine)"
   ]
  },
  {
   "cell_type": "markdown",
   "id": "4d48e42b",
   "metadata": {},
   "source": [
    "### Example\n",
    "- Weather data `files/weather.csv`\n",
    "- Predicting if will rain tomorrow\n",
    "- Goal is to learn about Normalization and Standardization"
   ]
  },
  {
   "cell_type": "code",
   "execution_count": null,
   "id": "8042d47c",
   "metadata": {},
   "outputs": [],
   "source": []
  },
  {
   "cell_type": "code",
   "execution_count": null,
   "id": "8ce50c46",
   "metadata": {},
   "outputs": [],
   "source": []
  },
  {
   "cell_type": "code",
   "execution_count": null,
   "id": "4b183f48",
   "metadata": {},
   "outputs": [],
   "source": []
  },
  {
   "cell_type": "code",
   "execution_count": null,
   "id": "8893a3bd",
   "metadata": {},
   "outputs": [],
   "source": []
  },
  {
   "cell_type": "code",
   "execution_count": null,
   "id": "6b52f52a",
   "metadata": {},
   "outputs": [],
   "source": []
  },
  {
   "cell_type": "markdown",
   "id": "59b63b5b",
   "metadata": {},
   "source": [
    "### Simplification\n",
    "- We will only focus on numeric columns ([`select_dtypes(include='number')`](https://pandas.pydata.org/docs/reference/api/pandas.DataFrame.select_dtypes.html)\n",
    "- We will remove all missing values [`dropna()`](https://pandas.pydata.org/docs/reference/api/pandas.DataFrame.dropna.html)\n",
    "- Out goal is to explore Normalization and Standardization"
   ]
  },
  {
   "cell_type": "code",
   "execution_count": null,
   "id": "89e2c82c",
   "metadata": {},
   "outputs": [],
   "source": []
  },
  {
   "cell_type": "code",
   "execution_count": null,
   "id": "aea46025",
   "metadata": {},
   "outputs": [],
   "source": []
  },
  {
   "cell_type": "code",
   "execution_count": null,
   "id": "49e841ba",
   "metadata": {},
   "outputs": [],
   "source": []
  },
  {
   "cell_type": "code",
   "execution_count": null,
   "id": "154de55f",
   "metadata": {},
   "outputs": [],
   "source": []
  },
  {
   "cell_type": "code",
   "execution_count": null,
   "id": "6efbfab8",
   "metadata": {},
   "outputs": [],
   "source": []
  },
  {
   "cell_type": "code",
   "execution_count": null,
   "id": "74154637",
   "metadata": {},
   "outputs": [],
   "source": []
  },
  {
   "cell_type": "code",
   "execution_count": null,
   "id": "f8289603",
   "metadata": {},
   "outputs": [],
   "source": []
  },
  {
   "cell_type": "markdown",
   "id": "362bcec6",
   "metadata": {},
   "source": [
    "### Box plots\n",
    "- A great way to understand features\n",
    "- Recap from Lesson 7\n",
    "    - Box plots is a great way to visualize descriptive statistics\n",
    "    - Notice that Q1: 25%, Q2: 50%, Q3: 75%\n",
    "\n",
    "![Box plots](img/box-plot.png)"
   ]
  },
  {
   "cell_type": "code",
   "execution_count": null,
   "id": "f71124a8",
   "metadata": {},
   "outputs": [],
   "source": []
  },
  {
   "cell_type": "code",
   "execution_count": null,
   "id": "07bf5568",
   "metadata": {},
   "outputs": [],
   "source": []
  },
  {
   "cell_type": "markdown",
   "id": "3009613c",
   "metadata": {},
   "source": [
    "### Normalization\n",
    "- [`MinMaxScaler`](https://scikit-learn.org/stable/modules/generated/sklearn.preprocessing.MinMaxScaler.html) Transform features by scaling each feature to a given range.\n",
    "- `MinMaxScaler().fit(X_train)` is used to create a scaler.\n",
    "    - Notice: We only do it on training data"
   ]
  },
  {
   "cell_type": "code",
   "execution_count": null,
   "id": "2af0fe2a",
   "metadata": {},
   "outputs": [],
   "source": []
  },
  {
   "cell_type": "code",
   "execution_count": null,
   "id": "5571b4a4",
   "metadata": {},
   "outputs": [],
   "source": []
  },
  {
   "cell_type": "code",
   "execution_count": null,
   "id": "0b57fd95",
   "metadata": {},
   "outputs": [],
   "source": []
  },
  {
   "cell_type": "code",
   "execution_count": null,
   "id": "2172b2ba",
   "metadata": {},
   "outputs": [],
   "source": []
  },
  {
   "cell_type": "code",
   "execution_count": null,
   "id": "6faa03c7",
   "metadata": {},
   "outputs": [],
   "source": []
  },
  {
   "cell_type": "markdown",
   "id": "efc39598",
   "metadata": {},
   "source": [
    "### Standarization\n",
    "- [`StandardScaler`](https://scikit-learn.org/stable/modules/generated/sklearn.preprocessing.StandardScaler.html) Standardize features by removing the mean and scaling to unit variance."
   ]
  },
  {
   "cell_type": "code",
   "execution_count": null,
   "id": "866adad1",
   "metadata": {},
   "outputs": [],
   "source": []
  },
  {
   "cell_type": "code",
   "execution_count": null,
   "id": "03a972ae",
   "metadata": {},
   "outputs": [],
   "source": []
  },
  {
   "cell_type": "code",
   "execution_count": null,
   "id": "a45841d6",
   "metadata": {},
   "outputs": [],
   "source": []
  },
  {
   "cell_type": "code",
   "execution_count": null,
   "id": "bf2ae554",
   "metadata": {},
   "outputs": [],
   "source": []
  },
  {
   "cell_type": "code",
   "execution_count": null,
   "id": "6bffc9af",
   "metadata": {},
   "outputs": [],
   "source": []
  },
  {
   "cell_type": "code",
   "execution_count": null,
   "id": "b0a313e8",
   "metadata": {},
   "outputs": [],
   "source": []
  },
  {
   "cell_type": "markdown",
   "id": "0b991a1c",
   "metadata": {},
   "source": [
    "### Simple Machine Learning Model\n",
    "- Explore the SVR model\n",
    "- [`SVC`](https://scikit-learn.org/stable/modules/generated/sklearn.svm.SVC.html) C-Support Vector Classification."
   ]
  },
  {
   "cell_type": "code",
   "execution_count": null,
   "id": "26ba5686",
   "metadata": {},
   "outputs": [],
   "source": []
  },
  {
   "cell_type": "code",
   "execution_count": null,
   "id": "f53d4ed6",
   "metadata": {},
   "outputs": [],
   "source": []
  }
 ],
 "metadata": {},
 "nbformat": 4,
 "nbformat_minor": 5
}
