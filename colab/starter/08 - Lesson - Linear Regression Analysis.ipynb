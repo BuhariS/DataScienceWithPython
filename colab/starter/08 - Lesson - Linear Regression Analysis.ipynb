{
 "cells": [
  {
   "cell_type": "markdown",
   "id": "4c649d74",
   "metadata": {},
   "source": [
    "<a \n",
    " href=\"https://colab.research.google.com/github/LearnPythonWithRune/DataScienceWithPython/blob/main/colab/starter/08 - Lesson - Linear Regression Analysis.ipynb\"\n",
    " target=\"_parent\">\n",
    "<img \n",
    " src=\"https://colab.research.google.com/assets/colab-badge.svg\"\n",
    "alt=\"Open In Colab\"/>\n",
    "</a>"
   ]
  },
  {
   "cell_type": "markdown",
   "id": "9399dac7",
   "metadata": {},
   "source": [
    "# Linear Regression Analysis"
   ]
  },
  {
   "cell_type": "markdown",
   "id": "7cfa0987",
   "metadata": {},
   "source": [
    "![Data Science Workflow](https://raw.githubusercontent.com/LearnPythonWithRune/DataScienceWithPython/main/jupyter/final/img/ds-workflow.png)"
   ]
  },
  {
   "cell_type": "markdown",
   "id": "c6c04edf",
   "metadata": {},
   "source": [
    "## Linear Regression\n",
    "- Given data input (independent variables) can we predict output (dependent variable)\n",
    "- It is the mapping from input point to a continuous value"
   ]
  },
  {
   "cell_type": "markdown",
   "id": "dd975da5",
   "metadata": {},
   "source": [
    "![Linear Regression](https://raw.githubusercontent.com/LearnPythonWithRune/DataScienceWithPython/main/jupyter/final/img/linear_regression.png)"
   ]
  },
  {
   "cell_type": "markdown",
   "id": "e94af05e",
   "metadata": {},
   "source": [
    "### Correlation and Linear Regression\n",
    "- Correlation\n",
    "    - Single measure of relationship between two variables.\n",
    "- Linear Regression\n",
    "    - An equation used for prediction.\n",
    "- Similarities\n",
    "    - Describes relationship between variables"
   ]
  },
  {
   "cell_type": "code",
   "execution_count": null,
   "id": "02df8a78",
   "metadata": {},
   "outputs": [],
   "source": [
    "import pandas as pd"
   ]
  },
  {
   "cell_type": "code",
   "execution_count": null,
   "id": "9b0c24de",
   "metadata": {},
   "outputs": [],
   "source": [
    "data = pd.read_csv('https://raw.githubusercontent.com/LearnPythonWithRune/DataScienceWithPython/main/jupyter/final/files/weight-height.csv')\n",
    "data.head()"
   ]
  },
  {
   "cell_type": "code",
   "execution_count": null,
   "id": "3d346796",
   "metadata": {},
   "outputs": [],
   "source": []
  },
  {
   "cell_type": "code",
   "execution_count": null,
   "id": "0d2d82c9",
   "metadata": {},
   "outputs": [],
   "source": []
  },
  {
   "cell_type": "code",
   "execution_count": null,
   "id": "7e4d60e4",
   "metadata": {},
   "outputs": [],
   "source": []
  },
  {
   "cell_type": "markdown",
   "id": "b60801f4",
   "metadata": {},
   "source": [
    "### Sklearn\n",
    "- Machine Learning in Python [scikit-learn](https://scikit-learn.org/stable/)\n",
    "- [LinearRegression](https://scikit-learn.org/stable/modules/generated/sklearn.linear_model.LinearRegression.html) Ordinary least squares Linear Regression.\n",
    "\n",
    "### Linear Regression\n",
    "- The **Linear Regression model** takes a collection of **observations**\n",
    "- Each **observation** has **featuers** (or variables).\n",
    "- The **features** the model takes as input are called **independent** (often denoted with `X`)\n",
    "- The **feature** the model outputs is called **dependent** (often denoted with `y`)"
   ]
  },
  {
   "cell_type": "code",
   "execution_count": null,
   "id": "fe86ccd9",
   "metadata": {},
   "outputs": [],
   "source": []
  },
  {
   "cell_type": "code",
   "execution_count": null,
   "id": "d9a37dd7",
   "metadata": {},
   "outputs": [],
   "source": []
  },
  {
   "cell_type": "code",
   "execution_count": null,
   "id": "6f2b0a07",
   "metadata": {},
   "outputs": [],
   "source": []
  },
  {
   "cell_type": "markdown",
   "id": "597a2ce5",
   "metadata": {},
   "source": [
    "### Measure the predictions\n",
    "- **R-squared**: regression score function ([docs](https://scikit-learn.org/stable/modules/generated/sklearn.metrics.r2_score.html))\n",
    "- Best possible score is 1.0\n",
    "- Interpretation of score is context dependent"
   ]
  },
  {
   "cell_type": "code",
   "execution_count": null,
   "id": "47a3ec9e",
   "metadata": {},
   "outputs": [],
   "source": []
  },
  {
   "cell_type": "code",
   "execution_count": null,
   "id": "3cdfcaa9",
   "metadata": {},
   "outputs": [],
   "source": []
  },
  {
   "cell_type": "code",
   "execution_count": null,
   "id": "c7cd1554",
   "metadata": {},
   "outputs": [],
   "source": []
  },
  {
   "cell_type": "code",
   "execution_count": null,
   "id": "ea145e6e",
   "metadata": {},
   "outputs": [],
   "source": []
  }
 ],
 "metadata": {
  "language_info": {
   "name": "python"
  }
 },
 "nbformat": 4,
 "nbformat_minor": 5
}
