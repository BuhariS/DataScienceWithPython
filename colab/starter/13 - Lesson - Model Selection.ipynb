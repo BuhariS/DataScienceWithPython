{
 "cells": [
  {
   "cell_type": "markdown",
   "id": "e04d69e7",
   "metadata": {},
   "source": [
    "<a \n",
    " href=\"https://colab.research.google.com/github/LearnPythonWithRune/DataScienceWithPython/blob/main/colab/starter/13 - Lesson - Model Selection.ipynb\"\n",
    " target=\"_parent\">\n",
    "<img \n",
    " src=\"https://colab.research.google.com/assets/colab-badge.svg\"\n",
    "alt=\"Open In Colab\"/>\n",
    "</a>"
   ]
  },
  {
   "cell_type": "markdown",
   "id": "d16e7964",
   "metadata": {},
   "source": [
    "# Model Selection"
   ]
  },
  {
   "cell_type": "markdown",
   "id": "b67fa815",
   "metadata": {},
   "source": [
    "![Data Science Workflow](img/ds-workflow.png)"
   ]
  },
  {
   "cell_type": "markdown",
   "id": "4c8bc9ed",
   "metadata": {},
   "source": [
    "## Model Selection\n",
    "- The process of selecting the model among a collection of candidates machine learning models\n",
    "\n",
    "### Problem type\n",
    "- What kind of problem are you looking into?\n",
    "    - **Classification**: *Predict labels on data with predefined classes*\n",
    "        - Supervised Machine Learning\n",
    "    - **Clustering**: *Identify similarieties between objects and group them in clusters*\n",
    "        - Unsupervised Machine Learning\n",
    "    - **Regression**: *Predict continuous values*\n",
    "        - Supervised Machine Learning\n",
    "- Resource: [Sklearn cheat sheet](https://scikit-learn.org/stable/tutorial/machine_learning_map/index.html)"
   ]
  },
  {
   "cell_type": "markdown",
   "id": "3396b523",
   "metadata": {},
   "source": [
    "### What is the \"best\" model?\n",
    "- All models have some **predictive error**\n",
    "- We should seek a model that is *good enough*"
   ]
  },
  {
   "cell_type": "markdown",
   "id": "a82943de",
   "metadata": {},
   "source": [
    "### Model Selection Techniques\n",
    "- **Probabilistic Measures**: Scoring by performance and complexity of model.\n",
    "- **Resampling Methods**: Splitting in sub-train and sub-test datasets and scoring by mean values of repeated runs."
   ]
  },
  {
   "cell_type": "code",
   "execution_count": null,
   "id": "f94fd9bb",
   "metadata": {},
   "outputs": [],
   "source": []
  },
  {
   "cell_type": "code",
   "execution_count": null,
   "id": "31da1517",
   "metadata": {},
   "outputs": [],
   "source": []
  },
  {
   "cell_type": "code",
   "execution_count": null,
   "id": "28497f47",
   "metadata": {},
   "outputs": [],
   "source": []
  },
  {
   "cell_type": "code",
   "execution_count": null,
   "id": "7e37db7a",
   "metadata": {},
   "outputs": [],
   "source": []
  },
  {
   "cell_type": "markdown",
   "id": "80f29dac",
   "metadata": {},
   "source": [
    "### Converting to Categories\n",
    "- [`cut()`](https://pandas.pydata.org/docs/reference/api/pandas.cut.html) Bin values into discrete intervals.\n",
    "    - Data in bins based on data distribution.\n",
    "- [`qcut()`](https://pandas.pydata.org/docs/reference/api/pandas.qcut.html) Quantile-based discretization function.\n",
    "    - Data in equal size bins"
   ]
  },
  {
   "cell_type": "markdown",
   "id": "c5f55186",
   "metadata": {},
   "source": [
    "#### Invstigation\n",
    "- Figure out why `cut` is not suitable for 3 bins here."
   ]
  },
  {
   "cell_type": "code",
   "execution_count": null,
   "id": "851e52a7",
   "metadata": {},
   "outputs": [],
   "source": []
  },
  {
   "cell_type": "code",
   "execution_count": null,
   "id": "a4710258",
   "metadata": {},
   "outputs": [],
   "source": []
  },
  {
   "cell_type": "code",
   "execution_count": null,
   "id": "82ffe370",
   "metadata": {},
   "outputs": [],
   "source": []
  },
  {
   "cell_type": "code",
   "execution_count": null,
   "id": "efd0b507",
   "metadata": {},
   "outputs": [],
   "source": []
  },
  {
   "cell_type": "code",
   "execution_count": null,
   "id": "1f44493c",
   "metadata": {},
   "outputs": [],
   "source": []
  },
  {
   "cell_type": "code",
   "execution_count": null,
   "id": "1ded301d",
   "metadata": {},
   "outputs": [],
   "source": []
  },
  {
   "cell_type": "code",
   "execution_count": null,
   "id": "da19d37f",
   "metadata": {},
   "outputs": [],
   "source": []
  },
  {
   "cell_type": "code",
   "execution_count": null,
   "id": "0d2725b7",
   "metadata": {},
   "outputs": [],
   "source": []
  },
  {
   "cell_type": "code",
   "execution_count": null,
   "id": "944ea5f5",
   "metadata": {},
   "outputs": [],
   "source": []
  },
  {
   "cell_type": "code",
   "execution_count": null,
   "id": "741f84e4",
   "metadata": {},
   "outputs": [],
   "source": []
  },
  {
   "cell_type": "code",
   "execution_count": null,
   "id": "82fc0985",
   "metadata": {},
   "outputs": [],
   "source": []
  }
 ],
 "metadata": {},
 "nbformat": 4,
 "nbformat_minor": 5
}
