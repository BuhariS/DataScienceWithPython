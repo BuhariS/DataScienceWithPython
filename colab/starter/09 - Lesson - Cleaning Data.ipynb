{
 "cells": [
  {
   "cell_type": "markdown",
   "id": "8e6bcda6",
   "metadata": {},
   "source": [
    "<a \n",
    " href=\"https://colab.research.google.com/github/LearnPythonWithRune/DataScienceWithPython/blob/main/colab/starter/09 - Lesson - Cleaning Data.ipynb\"\n",
    " target=\"_parent\">\n",
    "<img \n",
    " src=\"https://colab.research.google.com/assets/colab-badge.svg\"\n",
    "alt=\"Open In Colab\"/>\n",
    "</a>"
   ]
  },
  {
   "cell_type": "markdown",
   "id": "64478004",
   "metadata": {},
   "source": [
    "# Cleaning Data: Missing Data and Dealing with Outliers"
   ]
  },
  {
   "cell_type": "markdown",
   "id": "05aeeb70",
   "metadata": {},
   "source": [
    "![Data Science Workflow](https://raw.githubusercontent.com/LearnPythonWithRune/DataScienceWithPython/main/jupyter/final/img/ds-workflow.png)"
   ]
  },
  {
   "cell_type": "markdown",
   "id": "ec236b66",
   "metadata": {},
   "source": [
    "## Cleaning Data\n",
    "- Understand the **data quality**\n",
    "- **Improve** the quality (if possible)\n",
    "- Dealing with **missing data** (both rows in single entries)\n",
    "    - Examples include \n",
    "        - **Replacing** missing values/entries with mean values\n",
    "        - **Interpolation** of values (in time series)\n",
    "- Dealing with **data outliers**\n",
    "    - Examples include \n",
    "        - Default missing values in system: sometimes as 0-values\n",
    "        - Wrong values\n",
    "- Removing **duplicates**\n",
    "    - Common problem to have duplicate entries\n",
    "- Process requires **domain knowledge**"
   ]
  },
  {
   "cell_type": "markdown",
   "id": "2ba9ae3d",
   "metadata": {},
   "source": [
    "## Missing Data\n",
    "- Missing data is sometimes refered to as **NA** values in pandas.\n",
    "- A great source to learn about is [here](https://pandas.pydata.org/pandas-docs/stable/user_guide/missing_data.html)\n",
    "\n",
    "\n",
    "- Two types of missing data we consider\n",
    "    1. NaN data\n",
    "    2. Rows in time series data\n",
    "\n",
    "Examples"
   ]
  },
  {
   "cell_type": "code",
   "execution_count": null,
   "id": "e228fb93",
   "metadata": {},
   "outputs": [],
   "source": []
  },
  {
   "cell_type": "code",
   "execution_count": null,
   "id": "442d571e",
   "metadata": {},
   "outputs": [],
   "source": []
  },
  {
   "cell_type": "code",
   "execution_count": null,
   "id": "b1565f80",
   "metadata": {},
   "outputs": [],
   "source": []
  },
  {
   "cell_type": "markdown",
   "id": "53d06bdf",
   "metadata": {},
   "source": [
    "## Outliers\n",
    "- Requires domain knowledge\n",
    "- But typical examples could include"
   ]
  },
  {
   "cell_type": "code",
   "execution_count": null,
   "id": "abddf2c5",
   "metadata": {},
   "outputs": [],
   "source": []
  },
  {
   "cell_type": "markdown",
   "id": "3100bc09",
   "metadata": {},
   "source": [
    "## Demonstration how it affects results\n",
    "- [Housing Prices Competition for Kaggle Learn Users](https://www.kaggle.com/c/home-data-for-ml-course/overview)\n",
    "- The dataset contains a training and testing dataset.\n",
    "    - The goal is to predict prices on the testing dataset.\n",
    "- We will explore how dealing with missing values impacts the prediction of a linear regression model"
   ]
  },
  {
   "cell_type": "code",
   "execution_count": null,
   "id": "b781fe53",
   "metadata": {},
   "outputs": [],
   "source": [
    "from sklearn.linear_model import LinearRegression\n",
    "from sklearn.model_selection import train_test_split\n",
    "from sklearn.metrics import r2_score"
   ]
  },
  {
   "cell_type": "code",
   "execution_count": null,
   "id": "009c1ba0",
   "metadata": {},
   "outputs": [],
   "source": [
    "data = pd.read_csv('https://raw.githubusercontent.com/LearnPythonWithRune/DataScienceWithPython/main/jupyter/final/files/home-data/train.csv', index_col=0)\n",
    "data.head()"
   ]
  },
  {
   "cell_type": "code",
   "execution_count": null,
   "id": "27663072",
   "metadata": {},
   "outputs": [],
   "source": []
  },
  {
   "cell_type": "markdown",
   "id": "53dd5cff",
   "metadata": {},
   "source": [
    "### Remove non-numeric for this demonstration\n",
    "```Python\n",
    "data = data.select_dtypes(include='number')\n",
    "```\n",
    "\n",
    "Then we check of missing values.\n",
    "```Python\n",
    "data.info()\n",
    "```"
   ]
  },
  {
   "cell_type": "code",
   "execution_count": null,
   "id": "8250f9bd",
   "metadata": {},
   "outputs": [],
   "source": []
  },
  {
   "cell_type": "code",
   "execution_count": null,
   "id": "27f3bd22",
   "metadata": {},
   "outputs": [],
   "source": []
  },
  {
   "cell_type": "code",
   "execution_count": null,
   "id": "c7f1f47d",
   "metadata": {},
   "outputs": [],
   "source": []
  },
  {
   "cell_type": "code",
   "execution_count": null,
   "id": "45b45bcf",
   "metadata": {},
   "outputs": [],
   "source": []
  },
  {
   "cell_type": "markdown",
   "id": "52c2675e",
   "metadata": {},
   "source": [
    "### Helper function\n",
    "- Implement a helper function to calculate the r-square score\n",
    "- It should take independent features `X` and dependent feature `y`\n",
    "- Then split that into training and testing sets.\n",
    "- Fit the training set.\n",
    "- Predict the test set.\n",
    "- Return the r-square score"
   ]
  },
  {
   "cell_type": "code",
   "execution_count": null,
   "id": "281264c5",
   "metadata": {},
   "outputs": [],
   "source": []
  },
  {
   "cell_type": "markdown",
   "id": "570d38df",
   "metadata": {},
   "source": [
    "### Calculations\n",
    "- Try first to calcualte the r-square by using `data.dropna()`\n",
    "    - This serves as the ussual way we have done it\n",
    "- Then with `data.fillna(data.mean())`\n",
    "    - [`fillna()`](https://pandas.pydata.org/pandas-docs/dev/reference/api/pandas.DataFrame.fillna.html) Fill NA/NaN values using the specified method.\n",
    "- Then with `data.fillna(data.mode().iloc[0])`"
   ]
  },
  {
   "cell_type": "code",
   "execution_count": null,
   "id": "3d2b3163",
   "metadata": {},
   "outputs": [],
   "source": []
  },
  {
   "cell_type": "code",
   "execution_count": null,
   "id": "3f4b68c1",
   "metadata": {},
   "outputs": [],
   "source": []
  },
  {
   "cell_type": "code",
   "execution_count": null,
   "id": "748ae6e2",
   "metadata": {},
   "outputs": [],
   "source": []
  },
  {
   "cell_type": "code",
   "execution_count": null,
   "id": "db88f9ba",
   "metadata": {},
   "outputs": [],
   "source": []
  },
  {
   "cell_type": "markdown",
   "id": "95445f9f",
   "metadata": {},
   "source": [
    "## Time series\n",
    "- Now let's explore a time series: `files/weather.parquet`\n"
   ]
  },
  {
   "cell_type": "code",
   "execution_count": null,
   "id": "e395d4e9",
   "metadata": {},
   "outputs": [],
   "source": [
    "weather = pd.read_parquet('https://raw.githubusercontent.com/LearnPythonWithRune/DataScienceWithPython/main/jupyter/final/files/weather.parquet')\n",
    "weather.head()"
   ]
  },
  {
   "cell_type": "markdown",
   "id": "5d63e25a",
   "metadata": {},
   "source": [
    "### Missing time series rows\n",
    "- One way to find missing rows of data in a time series is as follows\n",
    "```Python\n",
    "idx = pd.Series(data=pd.date_range(start=df.index.min(), end=df.index.max(), freq=\"H\"))\n",
    "mask = idx.isin(df.index)\n",
    "idx[~mask]\n",
    "```"
   ]
  },
  {
   "cell_type": "code",
   "execution_count": null,
   "id": "ff13cbdf",
   "metadata": {},
   "outputs": [],
   "source": []
  },
  {
   "cell_type": "code",
   "execution_count": null,
   "id": "7bcd1ea0",
   "metadata": {},
   "outputs": [],
   "source": []
  },
  {
   "cell_type": "code",
   "execution_count": null,
   "id": "6c3935c5",
   "metadata": {},
   "outputs": [],
   "source": []
  },
  {
   "cell_type": "code",
   "execution_count": null,
   "id": "193cef8d",
   "metadata": {},
   "outputs": [],
   "source": []
  },
  {
   "cell_type": "markdown",
   "id": "903bfa1e",
   "metadata": {},
   "source": [
    "### Insert missing datetimess and interpolate them\n",
    "- To insert missing datetimes we can use [`reindex()`](https://pandas.pydata.org/docs/reference/api/pandas.DataFrame.reindex.html)\n",
    "- To interploate values that are missing [`interpolate`](https://pandas.pydata.org/docs/reference/api/pandas.DataFrame.interpolate.html)"
   ]
  },
  {
   "cell_type": "code",
   "execution_count": null,
   "id": "84546876",
   "metadata": {},
   "outputs": [],
   "source": []
  },
  {
   "cell_type": "code",
   "execution_count": null,
   "id": "72330a98",
   "metadata": {},
   "outputs": [],
   "source": []
  },
  {
   "cell_type": "code",
   "execution_count": null,
   "id": "6ac05ccc",
   "metadata": {},
   "outputs": [],
   "source": []
  },
  {
   "cell_type": "markdown",
   "id": "5d0cb1c2",
   "metadata": {},
   "source": [
    "## Outliers\n",
    "- If we focus on `Pressure (millibars)` for `2006'\n",
    "- One way to handle 0-values is with [`replace()`](https://pandas.pydata.org/docs/reference/api/pandas.DataFrame.replace.html)\n",
    "```Python\n",
    ".replace(0, np.nan)\n",
    "```\n",
    "- Then we can apply `interploate()`"
   ]
  },
  {
   "cell_type": "code",
   "execution_count": null,
   "id": "3750f959",
   "metadata": {},
   "outputs": [],
   "source": []
  },
  {
   "cell_type": "code",
   "execution_count": null,
   "id": "865478d1",
   "metadata": {},
   "outputs": [],
   "source": []
  },
  {
   "cell_type": "code",
   "execution_count": null,
   "id": "571a2b6e",
   "metadata": {},
   "outputs": [],
   "source": []
  },
  {
   "cell_type": "code",
   "execution_count": null,
   "id": "becac181",
   "metadata": {},
   "outputs": [],
   "source": []
  },
  {
   "cell_type": "code",
   "execution_count": null,
   "id": "7e2fb4f2",
   "metadata": {},
   "outputs": [],
   "source": []
  },
  {
   "cell_type": "code",
   "execution_count": null,
   "id": "ccf246c5",
   "metadata": {},
   "outputs": [],
   "source": []
  },
  {
   "cell_type": "markdown",
   "id": "5b897f0b",
   "metadata": {},
   "source": [
    "### Removing Duplicates\n",
    "- [`drop_duplicates()`](https://pandas.pydata.org/docs/reference/api/pandas.DataFrame.drop_duplicates.html) Return DataFrame with duplicate rows removed."
   ]
  },
  {
   "cell_type": "code",
   "execution_count": null,
   "id": "fd78f2a4",
   "metadata": {},
   "outputs": [],
   "source": []
  },
  {
   "cell_type": "code",
   "execution_count": null,
   "id": "336b89ef",
   "metadata": {},
   "outputs": [],
   "source": []
  },
  {
   "cell_type": "code",
   "execution_count": null,
   "id": "e5ff4e37",
   "metadata": {},
   "outputs": [],
   "source": []
  }
 ],
 "metadata": {
  "language_info": {
   "name": "python"
  }
 },
 "nbformat": 4,
 "nbformat_minor": 5
}
