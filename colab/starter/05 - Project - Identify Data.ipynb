{
 "cells": [
  {
   "cell_type": "markdown",
   "id": "ee0c657d",
   "metadata": {},
   "source": [
    "<a \n",
    " href=\"https://colab.research.google.com/github/LearnPythonWithRune/DataScienceWithPython/blob/main/colab/starter/05 - Project - Identify Data.ipynb\"\n",
    " target=\"_parent\">\n",
    "<img \n",
    " src=\"https://colab.research.google.com/assets/colab-badge.svg\"\n",
    "alt=\"Open In Colab\"/>\n",
    "</a>"
   ]
  },
  {
   "cell_type": "markdown",
   "id": "39c877c9",
   "metadata": {},
   "source": [
    "# Project - Identify Data"
   ]
  },
  {
   "cell_type": "markdown",
   "id": "26869a35",
   "metadata": {},
   "source": [
    "![Data Science Workflow](https://raw.githubusercontent.com/LearnPythonWithRune/DataScienceWithPython/main/jupyter/final/img/ds-workflow.png)"
   ]
  },
  {
   "cell_type": "markdown",
   "id": "9da31bb3",
   "metadata": {},
   "source": [
    "## Goal of Project\n",
    "- World population growth rate\n",
    "- Is the growth rate stable? Increasing or Declining?"
   ]
  },
  {
   "cell_type": "markdown",
   "id": "77f362c4",
   "metadata": {},
   "source": [
    "## Step 1: Acquire\n",
    "- Explore problem\n",
    "- Identify data\n",
    "- Import data"
   ]
  },
  {
   "cell_type": "markdown",
   "id": "6f8cbbcb",
   "metadata": {},
   "source": [
    "### Step 1.a: Explore and understand problem\n",
    "- What data do we need to answer the problem?"
   ]
  },
  {
   "cell_type": "code",
   "execution_count": null,
   "id": "5210045a",
   "metadata": {},
   "outputs": [],
   "source": [
    "# We need to have the data of the world population"
   ]
  },
  {
   "cell_type": "markdown",
   "id": "eb4743fa",
   "metadata": {},
   "source": [
    "### Step 1.b: Indentify data with world population\n",
    "- There are multiple sources\n",
    "- World bank: https://data.worldbank.org/indicator/SP.POP.TOTL\n",
    "- Wiki: https://en.wikipedia.org/wiki/World_population\n",
    "- ...and probably more\n"
   ]
  },
  {
   "cell_type": "code",
   "execution_count": null,
   "id": "be4cf6dc",
   "metadata": {},
   "outputs": [],
   "source": [
    "# We we'll use the World bank data in the following steps"
   ]
  },
  {
   "cell_type": "markdown",
   "id": "2bf725fa",
   "metadata": {},
   "source": [
    "### Step 1.c: Download and import the data\n",
    "- We will download it from World Bank"
   ]
  },
  {
   "cell_type": "code",
   "execution_count": null,
   "id": "06a56835",
   "metadata": {},
   "outputs": [],
   "source": [
    "# We downloaded the CSV format data"
   ]
  },
  {
   "cell_type": "markdown",
   "id": "e4ad8ec8",
   "metadata": {},
   "source": [
    "### Step 1.d: Import libraries\n",
    "- Execute the cell below (SHIFT + ENTER)"
   ]
  },
  {
   "cell_type": "code",
   "execution_count": null,
   "id": "34beedd5",
   "metadata": {},
   "outputs": [],
   "source": [
    "import pandas as pd\n",
    "import matplotlib.pyplot as plt\n",
    "%matplotlib inline"
   ]
  },
  {
   "cell_type": "markdown",
   "id": "b5f9a799",
   "metadata": {},
   "source": [
    "### Step 1.e: Read the data\n",
    "- Use ```pd.read_csv()``` to read the file `files/API_SP/API_SP.POP.TOTL_DS2_en_csv_v2_3158886.csv`\n",
    "- NOTE: Remember to assign the result to a variable (e.g., ```data```)\n",
    "- HELP: You might need to `skiprows=4`\n",
    "- Apply ```.head()``` on the data to see all is as expected"
   ]
  },
  {
   "cell_type": "code",
   "execution_count": null,
   "id": "11a18315",
   "metadata": {},
   "outputs": [],
   "source": [
    "data = pd.read_csv(\"https://raw.githubusercontent.com/LearnPythonWithRune/DataScienceWithPython/main/jupyter/final/files/API_SP/API_SP.POP.TOTL_DS2_en_csv_v2_3158886.csv\", skiprows=4)\n",
    "data.head()"
   ]
  },
  {
   "cell_type": "markdown",
   "id": "a2377dd7",
   "metadata": {},
   "source": [
    "### Step 1.f: Get world data\n",
    "- We are only insterested in data for the world.\n",
    "- The data can be identified by `Country Name` (World) or `Country Code` (WLD).\n",
    "- This can be done as follows:\n",
    "```Python\n",
    "data[data['Country Name'] == 'World']\n",
    "```\n",
    "- NOTE: Remember to keep data"
   ]
  },
  {
   "cell_type": "code",
   "execution_count": null,
   "id": "d1a3e2a9",
   "metadata": {},
   "outputs": [],
   "source": []
  },
  {
   "cell_type": "code",
   "execution_count": null,
   "id": "c852d1ca",
   "metadata": {},
   "outputs": [],
   "source": []
  },
  {
   "cell_type": "markdown",
   "id": "3bec949d",
   "metadata": {},
   "source": [
    "## Step 2: Prepare\n",
    "- Explore data\n",
    "- Visualize ideas\n",
    "- Cleaning data"
   ]
  },
  {
   "cell_type": "markdown",
   "id": "6a5d948d",
   "metadata": {},
   "source": [
    "### Step 2.a: Check the data types\n",
    "- This step tells you if some numeric column is not represented numeric.\n",
    "- Get the data types by ```.dtypes```"
   ]
  },
  {
   "cell_type": "code",
   "execution_count": null,
   "id": "eb4ba8fc",
   "metadata": {},
   "outputs": [],
   "source": []
  },
  {
   "cell_type": "markdown",
   "id": "74fcad4d",
   "metadata": {},
   "source": [
    "### Step 2.b: Keep only needed columns\n",
    "- We are only interested in the year columns.\n",
    "- You can drop the other columns by: ```.drop(list_of_columns_to_delete, axis='columns')```\n",
    "- Notice there is a `unnamed` column.\n",
    "    - Remove it with `dataset.dropna(how='all', axis='columns')`"
   ]
  },
  {
   "cell_type": "code",
   "execution_count": null,
   "id": "0746bb3d",
   "metadata": {},
   "outputs": [],
   "source": []
  },
  {
   "cell_type": "code",
   "execution_count": null,
   "id": "6fac8f80",
   "metadata": {},
   "outputs": [],
   "source": []
  },
  {
   "cell_type": "markdown",
   "id": "5ffac106",
   "metadata": {},
   "source": [
    "### Step 2.c: Transpose data\n",
    "- It makes sense to have years in the rows\n",
    "- This can be done with `.transpose()`"
   ]
  },
  {
   "cell_type": "code",
   "execution_count": null,
   "id": "4cccd7a9",
   "metadata": {},
   "outputs": [],
   "source": []
  },
  {
   "cell_type": "code",
   "execution_count": null,
   "id": "a7eb351a",
   "metadata": {},
   "outputs": [],
   "source": []
  },
  {
   "cell_type": "markdown",
   "id": "9be4b35f",
   "metadata": {},
   "source": [
    "### Step 2.d: Rename column\n",
    "- The name 259 can be renamed as follows\n",
    "- This can be done as follows\n",
    "```.rename(columns={259:'World Population'})```"
   ]
  },
  {
   "cell_type": "code",
   "execution_count": null,
   "id": "5bba2ae4",
   "metadata": {},
   "outputs": [],
   "source": []
  },
  {
   "cell_type": "markdown",
   "id": "137fdfde",
   "metadata": {},
   "source": [
    "### Step 2.e: Visualize data\n",
    "- This is done to check data quality\n",
    "- You can plot the DataFrame with `.plot()`"
   ]
  },
  {
   "cell_type": "code",
   "execution_count": null,
   "id": "ce6a2b8c",
   "metadata": {},
   "outputs": [],
   "source": []
  },
  {
   "cell_type": "markdown",
   "id": "8cc1cabe",
   "metadata": {},
   "source": [
    "## Step 3: Analyze\n",
    "- Feature selection\n",
    "- Model selection\n",
    "- Analyze data"
   ]
  },
  {
   "cell_type": "markdown",
   "id": "30796964",
   "metadata": {},
   "source": [
    "### Step 3.a: Calculate yearly percentage change\n",
    "- We want to explore the growth of the world population\n",
    "- First step is to calculate the yearly growth\n",
    "- This can be done with `pct_change()` ([docs](https://pandas.pydata.org/docs/reference/api/pandas.DataFrame.pct_change.html))\n",
    "- Add a new column `Yearly growth` with the growth in percentage"
   ]
  },
  {
   "cell_type": "code",
   "execution_count": null,
   "id": "6ca78884",
   "metadata": {},
   "outputs": [],
   "source": []
  },
  {
   "cell_type": "markdown",
   "id": "89aeb8d7",
   "metadata": {},
   "source": [
    "### Step 3.b: Visualize the Yearly growth\n",
    "- Plot it with `.plot()`\n",
    "- This will give you an idea of the trend."
   ]
  },
  {
   "cell_type": "code",
   "execution_count": null,
   "id": "19eaf8ac",
   "metadata": {},
   "outputs": [],
   "source": []
  },
  {
   "cell_type": "markdown",
   "id": "8b76a782",
   "metadata": {},
   "source": [
    "### Step 3.c: Smooth the result\n",
    "- A great way is to smooth the result\n",
    "- This can show local tendencies\n",
    "- Calculate a 10-years rolling average by using [rolling(10)](https://pandas.pydata.org/docs/reference/api/pandas.DataFrame.rolling.html).[mean()](https://pandas.pydata.org/docs/reference/api/pandas.core.window.rolling.Rolling.mean.html)\n",
    "```Python\n",
    "dataset['Yearly growth'].rolling(10).mean()\n",
    "```\n",
    "- Visualize the result\n",
    "    - HINT: Make a plot containing `Yearly growth` and the new calculation.\n",
    "- What does that tell you?"
   ]
  },
  {
   "cell_type": "code",
   "execution_count": null,
   "id": "f8e9c61f",
   "metadata": {},
   "outputs": [],
   "source": []
  },
  {
   "cell_type": "code",
   "execution_count": null,
   "id": "7e654964",
   "metadata": {},
   "outputs": [],
   "source": []
  },
  {
   "cell_type": "markdown",
   "id": "98a71ee2",
   "metadata": {},
   "source": [
    "## Step 4: Report\n",
    "- Present findings\n",
    "- Visualize results\n",
    "- Credibility counts"
   ]
  },
  {
   "cell_type": "markdown",
   "id": "ff7e91d7",
   "metadata": {},
   "source": [
    "### Step 4.a: Transform data\n",
    "- To make plot more readable transform data to percentage\n",
    "    - HINT: Multiply columns data `Yearly growth` and the smoothed data by 100"
   ]
  },
  {
   "cell_type": "code",
   "execution_count": null,
   "id": "773e375e",
   "metadata": {},
   "outputs": [],
   "source": []
  },
  {
   "cell_type": "code",
   "execution_count": null,
   "id": "215dfdab",
   "metadata": {},
   "outputs": [],
   "source": []
  },
  {
   "cell_type": "markdown",
   "id": "53cbf747",
   "metadata": {},
   "source": [
    "### Step 4.b: Set title and labels on axis\n",
    "- In the plot set labels and axis\n",
    "    - `xlabel='Year'` the same for `ylabel` and `title`"
   ]
  },
  {
   "cell_type": "code",
   "execution_count": null,
   "id": "5cc69a35",
   "metadata": {},
   "outputs": [],
   "source": []
  },
  {
   "cell_type": "markdown",
   "id": "74510a5d",
   "metadata": {},
   "source": [
    "### Step 4.c: Adding ranges on axis\n",
    "- Add range on y-axis to make the plot more readable.\n",
    "- Use `ylim=0`"
   ]
  },
  {
   "cell_type": "code",
   "execution_count": null,
   "id": "e108b993",
   "metadata": {},
   "outputs": [],
   "source": []
  },
  {
   "cell_type": "markdown",
   "id": "65c865f1",
   "metadata": {},
   "source": [
    "## Step 5: Actions\n",
    "- Use insights\n",
    "- Measure impact\n",
    "- Main goal"
   ]
  },
  {
   "cell_type": "markdown",
   "id": "b246449c",
   "metadata": {},
   "source": [
    "### Step 5.a\n",
    "- Any insights to use?\n",
    "- Do we need to make predictions based on it?"
   ]
  },
  {
   "cell_type": "code",
   "execution_count": null,
   "id": "2dee2505",
   "metadata": {},
   "outputs": [],
   "source": []
  }
 ],
 "metadata": {
  "language_info": {
   "name": "python"
  }
 },
 "nbformat": 4,
 "nbformat_minor": 5
}
